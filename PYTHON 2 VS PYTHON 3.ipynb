{
 "cells": [
  {
   "cell_type": "markdown",
   "metadata": {},
   "source": [
    "## PYTHON 2 VS PYTHON 3\n"
   ]
  },
  {
   "cell_type": "markdown",
   "metadata": {},
   "source": [
    "### Python 2\n",
    "Python 2 was released in October 2000. Python 2 made code development process easier than the earlier versions. It brought new features to Python including, cycle-detecting garbage collector and played a very important role in building the Python community.\n",
    "### Python 3\n",
    "Python 3 was released in December 2008. The main purpose of this release was to fix the existing problems in Python 2. Python 3 is not 'backwards-compitable' which means that if you are using various Python 2 libraries they may no longer work after you upgrade. Any organization who was using Python 2.x version have to make tough choice. Python 3 adoption has been a long subject of debate in Python community but slowly people are turning towards python 3 as people are realising that python 2 is legacy but python 3 is the future. Today, in 2020, there are hardly any Python 2 user remaining."
   ]
  },
  {
   "cell_type": "markdown",
   "metadata": {},
   "source": [
    "###  Difference between Python 2 and Python 3"
   ]
  },
  {
   "cell_type": "markdown",
   "metadata": {},
   "source": [
    "#### Print Function\n",
    "One of the most well-known change is print function. In this, the print keyword in Python 2.x is replaced by print( ) function in Python 3.x."
   ]
  },
  {
   "cell_type": "code",
   "execution_count": 4,
   "metadata": {},
   "outputs": [
    {
     "name": "stdout",
     "output_type": "stream",
     "text": [
      "Hello World\n"
     ]
    }
   ],
   "source": [
    "print('Hello World') # Python 3.x\n",
    "\n",
    "\n",
    "\n",
    "#  print'Hello World'  # Python 2.x"
   ]
  },
  {
   "cell_type": "markdown",
   "metadata": {},
   "source": [
    "#### Division of Integer\n",
    "The division operator in Python 2.x returned an integer result value where as in Python 3.x we can get a float value."
   ]
  },
  {
   "cell_type": "code",
   "execution_count": 1,
   "metadata": {},
   "outputs": [
    {
     "name": "stdout",
     "output_type": "stream",
     "text": [
      "3.5\n"
     ]
    }
   ],
   "source": [
    "print(7/2)  # Python 3.x\n",
    "\n",
    "\n",
    "# print 7/2 -----> 3  # Python 3.x"
   ]
  },
  {
   "cell_type": "markdown",
   "metadata": {},
   "source": [
    "#### Unicode\n",
    "In Python 2.x, to store Unicode string value, you require to define them with \"u\". But in Python 3.x, default storing of strings is Unicode.\n"
   ]
  },
  {
   "cell_type": "code",
   "execution_count": 2,
   "metadata": {},
   "outputs": [
    {
     "name": "stdout",
     "output_type": "stream",
     "text": [
      "<class 'str'>\n"
     ]
    }
   ],
   "source": [
    "print(type('string'))   # Python 3.x\n",
    "\n",
    "# print(type(u'string')) # Python 2.x"
   ]
  },
  {
   "cell_type": "markdown",
   "metadata": {},
   "source": [
    "#### Parsing User Input\n",
    "The input( ) function is fixed in Python 3.x so that it always stores the user inputs as str objects. In order to avoid the dangerous behaviour in Python 2.x to read other types than strings, we have to use raw_input( ) instead."
   ]
  },
  {
   "cell_type": "code",
   "execution_count": 3,
   "metadata": {},
   "outputs": [
    {
     "name": "stdout",
     "output_type": "stream",
     "text": [
      "Enter a number: 1\n"
     ]
    }
   ],
   "source": [
    "my_input = input('Enter a number: ')  # Python 3.x\n",
    "\n",
    "\n",
    "# my_input = raw_input('Enter a number: ')  # Python 2.x"
   ]
  },
  {
   "cell_type": "markdown",
   "metadata": {},
   "source": [
    "#### Iteration\n",
    "The new range( ) function introduced to perform iterations in Python 3.x. In Python 2, the xrange( ) is used for iterations."
   ]
  },
  {
   "cell_type": "code",
   "execution_count": 5,
   "metadata": {},
   "outputs": [
    {
     "name": "stdout",
     "output_type": "stream",
     "text": [
      "0\n",
      "1\n",
      "2\n",
      "3\n",
      "4\n"
     ]
    }
   ],
   "source": [
    "for i in range(5):  # Python 3.x\n",
    "    print (i)\n",
    "    \n",
    "\n",
    "# for i in xrange(5):  # Python 2.x\n",
    "    #print i"
   ]
  },
  {
   "cell_type": "markdown",
   "metadata": {},
   "source": [
    "#### Exception Handling\n",
    "There is a small change in the syntax in the usage of try and except blocks for exception handling in Python. In Python 3.x version, in the except block, we now use as keyword with the error type and its variable object."
   ]
  },
  {
   "cell_type": "code",
   "execution_count": 10,
   "metadata": {},
   "outputs": [
    {
     "name": "stdout",
     "output_type": "stream",
     "text": [
      "name 'rrr' is not defined\n"
     ]
    }
   ],
   "source": [
    "# Python 3.x\n",
    "try:\n",
    "  rrr# introducing an error\n",
    "except NameError as err:\n",
    "    print(err)\n",
    "    \n",
    "# Python 2.x\n",
    "# try:\n",
    "#     rrr # introducing an error\n",
    "# except NameError, err:\n",
    "#     print(err, 'Error Occured')"
   ]
  },
  {
   "cell_type": "markdown",
   "metadata": {},
   "source": [
    "#### Raising Exception\n",
    "Syntax for raising exceptions are changed in Python 3.x."
   ]
  },
  {
   "cell_type": "code",
   "execution_count": 11,
   "metadata": {},
   "outputs": [
    {
     "ename": "OSError",
     "evalue": " error message",
     "output_type": "error",
     "traceback": [
      "\u001b[0;31m---------------------------------------------------------------------------\u001b[0m",
      "\u001b[0;31mOSError\u001b[0m                                   Traceback (most recent call last)",
      "\u001b[0;32m<ipython-input-11-dc9bde0134e5>\u001b[0m in \u001b[0;36m<module>\u001b[0;34m\u001b[0m\n\u001b[0;32m----> 1\u001b[0;31m \u001b[0;32mraise\u001b[0m \u001b[0mIOError\u001b[0m\u001b[0;34m(\u001b[0m\u001b[0;34m' error message'\u001b[0m\u001b[0;34m)\u001b[0m  \u001b[0;31m# Python 3.x\u001b[0m\u001b[0;34m\u001b[0m\u001b[0;34m\u001b[0m\u001b[0m\n\u001b[0m\u001b[1;32m      2\u001b[0m \u001b[0;34m\u001b[0m\u001b[0m\n\u001b[1;32m      3\u001b[0m \u001b[0;34m\u001b[0m\u001b[0m\n\u001b[1;32m      4\u001b[0m \u001b[0;31m# raise IOError, 'error message'  # Python 2.x\u001b[0m\u001b[0;34m\u001b[0m\u001b[0;34m\u001b[0m\u001b[0;34m\u001b[0m\u001b[0m\n",
      "\u001b[0;31mOSError\u001b[0m:  error message"
     ]
    }
   ],
   "source": [
    "raise IOError(' error message')  # Python 3.x\n",
    "\n",
    "\n",
    "# raise IOError, 'error message'  # Python 2.x"
   ]
  },
  {
   "cell_type": "markdown",
   "metadata": {},
   "source": [
    "#### Not Equal Operator \n",
    "In Python 2.x, we have to use greater than and less than signs for  a not equal operator. In Python 3.x, there is a general operator which is exclamation marks and equal to. "
   ]
  },
  {
   "cell_type": "code",
   "execution_count": 15,
   "metadata": {
    "scrolled": true
   },
   "outputs": [
    {
     "name": "stdout",
     "output_type": "stream",
     "text": [
      "False\n"
     ]
    }
   ],
   "source": [
    "1 != 1.0  # Python 3.x        \n",
    "print(False)\n",
    "\n",
    "\n",
    "# 1<> 1.0  # Python 2.x\n",
    "#print 'False'"
   ]
  },
  {
   "cell_type": "markdown",
   "metadata": {},
   "source": [
    "#### List Comprehension Loop Variables\n",
    "In python 2.x, giving the variable that is iterated over in a “for loop” the same name as a global variable may leads to the value of the global variable being changed – which generally we don’t want. This issue has been fixed in Python 3.x, so you can use a variable name you already used for the control variable in your “for loop” without worrying about it leaking out and messing with the values of the variables in the rest of your code."
   ]
  },
  {
   "cell_type": "code",
   "execution_count": 16,
   "metadata": {},
   "outputs": [
    {
     "name": "stdout",
     "output_type": "stream",
     "text": [
      "before: i = 1\n",
      "comprehension: [0, 1, 2, 3, 4]\n",
      "after: i = 1\n"
     ]
    }
   ],
   "source": [
    "# Python 3.x\n",
    "i = 1\n",
    "print (f'before: i = {i}')\n",
    "print(f'comprehension: {[i for i in range(5)]}')\n",
    "print(f'after: i = {i}')\n",
    "\n",
    "# Python 2.x\n",
    "# i = 1\n",
    "# print 'before: i =', i\n",
    "# print 'comprehension: ', [i for i in range(5)]\n",
    "# print 'after: i =', i\n",
    "\n",
    "# Output in 2.x\n",
    "# before: i = 1\n",
    "# comprehension: [0, 1, 2, 3, 4]\n",
    "# after: i = 4\n"
   ]
  },
  {
   "cell_type": "code",
   "execution_count": null,
   "metadata": {},
   "outputs": [],
   "source": []
  }
 ],
 "metadata": {
  "kernelspec": {
   "display_name": "Python 3",
   "language": "python",
   "name": "python3"
  },
  "language_info": {
   "codemirror_mode": {
    "name": "ipython",
    "version": 3
   },
   "file_extension": ".py",
   "mimetype": "text/x-python",
   "name": "python",
   "nbconvert_exporter": "python",
   "pygments_lexer": "ipython3",
   "version": "3.7.7"
  }
 },
 "nbformat": 4,
 "nbformat_minor": 4
}
